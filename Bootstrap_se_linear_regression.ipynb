{
 "cells": [
  {
   "cell_type": "markdown",
   "id": "8f5056e1",
   "metadata": {},
   "source": [
    "# Bootstrap to estimate SE of regression parameters"
   ]
  },
  {
   "cell_type": "code",
   "execution_count": 19,
   "id": "222f7ac1",
   "metadata": {},
   "outputs": [],
   "source": [
    "import numpy as np\n",
    "import statsmodels.api as sm\n",
    "import seaborn as sns\n",
    "import random"
   ]
  },
  {
   "cell_type": "code",
   "execution_count": 6,
   "id": "15acaec2",
   "metadata": {},
   "outputs": [],
   "source": [
    "# Data generating process\n",
    "x1 = np.linspace(0,1,100)\n",
    "eps = np.random.randn(100)\n",
    "y = 1 + 3*x1 + eps"
   ]
  },
  {
   "cell_type": "code",
   "execution_count": 14,
   "id": "1c2034b7",
   "metadata": {},
   "outputs": [
    {
     "name": "stderr",
     "output_type": "stream",
     "text": [
      "C:\\Users\\edogu\\anaconda3\\lib\\site-packages\\seaborn\\_decorators.py:36: FutureWarning: Pass the following variables as keyword args: x, y. From version 0.12, the only valid positional argument will be `data`, and passing other arguments without an explicit keyword will result in an error or misinterpretation.\n",
      "  warnings.warn(\n"
     ]
    },
    {
     "data": {
      "text/plain": [
       "<AxesSubplot:>"
      ]
     },
     "execution_count": 14,
     "metadata": {},
     "output_type": "execute_result"
    },
    {
     "data": {
      "image/png": "[encoded data removed]",
      "text/plain": [
       "<Figure size 432x288 with 1 Axes>"
      ]
     },
     "metadata": {
      "needs_background": "light"
     },
     "output_type": "display_data"
    }
   ],
   "source": [
    "sns.scatterplot(x1,y)"
   ]
  },
  {
   "cell_type": "code",
   "execution_count": 20,
   "id": "88fc5a1d",
   "metadata": {},
   "outputs": [
    {
     "data": {
      "text/html": [
       "<table class=\"simpletable\">\n",
       "<caption>OLS Regression Results</caption>\n",
       "<tr>\n",
       "  <th>Dep. Variable:</th>            <td>y</td>        <th>  R-squared:         </th> <td>   0.388</td>\n",
       "</tr>\n",
       "<tr>\n",
       "  <th>Model:</th>                   <td>OLS</td>       <th>  Adj. R-squared:    </th> <td>   0.381</td>\n",
       "</tr>\n",
       "<tr>\n",
       "  <th>Method:</th>             <td>Least Squares</td>  <th>  F-statistic:       </th> <td>   62.06</td>\n",
       "</tr>\n",
       "<tr>\n",
       "  <th>Date:</th>             <td>Sat, 07 Jan 2023</td> <th>  Prob (F-statistic):</th> <td>4.62e-12</td>\n",
       "</tr>\n",
       "<tr>\n",
       "  <th>Time:</th>                 <td>17:36:23</td>     <th>  Log-Likelihood:    </th> <td> -150.00</td>\n",
       "</tr>\n",
       "<tr>\n",
       "  <th>No. Observations:</th>      <td>   100</td>      <th>  AIC:               </th> <td>   304.0</td>\n",
       "</tr>\n",
       "<tr>\n",
       "  <th>Df Residuals:</th>          <td>    98</td>      <th>  BIC:               </th> <td>   309.2</td>\n",
       "</tr>\n",
       "<tr>\n",
       "  <th>Df Model:</th>              <td>     1</td>      <th>                     </th>     <td> </td>   \n",
       "</tr>\n",
       "<tr>\n",
       "  <th>Covariance Type:</th>      <td>nonrobust</td>    <th>                     </th>     <td> </td>   \n",
       "</tr>\n",
       "</table>\n",
       "<table class=\"simpletable\">\n",
       "<tr>\n",
       "    <td></td>       <th>coef</th>     <th>std err</th>      <th>t</th>      <th>P>|t|</th>  <th>[0.025</th>    <th>0.975]</th>  \n",
       "</tr>\n",
       "<tr>\n",
       "  <th>const</th> <td>    1.0333</td> <td>    0.217</td> <td>    4.752</td> <td> 0.000</td> <td>    0.602</td> <td>    1.465</td>\n",
       "</tr>\n",
       "<tr>\n",
       "  <th>x1</th>    <td>    2.9597</td> <td>    0.376</td> <td>    7.878</td> <td> 0.000</td> <td>    2.214</td> <td>    3.705</td>\n",
       "</tr>\n",
       "</table>\n",
       "<table class=\"simpletable\">\n",
       "<tr>\n",
       "  <th>Omnibus:</th>       <td> 1.553</td> <th>  Durbin-Watson:     </th> <td>   2.063</td>\n",
       "</tr>\n",
       "<tr>\n",
       "  <th>Prob(Omnibus):</th> <td> 0.460</td> <th>  Jarque-Bera (JB):  </th> <td>   1.291</td>\n",
       "</tr>\n",
       "<tr>\n",
       "  <th>Skew:</th>          <td> 0.089</td> <th>  Prob(JB):          </th> <td>   0.524</td>\n",
       "</tr>\n",
       "<tr>\n",
       "  <th>Kurtosis:</th>      <td> 2.473</td> <th>  Cond. No.          </th> <td>    4.35</td>\n",
       "</tr>\n",
       "</table><br/><br/>Notes:<br/>[1] Standard Errors assume that the covariance matrix of the errors is correctly specified."
      ],
      "text/plain": [
       "<class 'statsmodels.iolib.summary.Summary'>\n",
       "\"\"\"\n",
       "                            OLS Regression Results                            \n",
       "==============================================================================\n",
       "Dep. Variable:                      y   R-squared:                       0.388\n",
       "Model:                            OLS   Adj. R-squared:                  0.381\n",
       "Method:                 Least Squares   F-statistic:                     62.06\n",
       "Date:                Sat, 07 Jan 2023   Prob (F-statistic):           4.62e-12\n",
       "Time:                        17:36:23   Log-Likelihood:                -150.00\n",
       "No. Observations:                 100   AIC:                             304.0\n",
       "Df Residuals:                      98   BIC:                             309.2\n",
       "Df Model:                           1                                         \n",
       "Covariance Type:            nonrobust                                         \n",
       "==============================================================================\n",
       "                 coef    std err          t      P>|t|      [0.025      0.975]\n",
       "------------------------------------------------------------------------------\n",
       "const          1.0333      0.217      4.752      0.000       0.602       1.465\n",
       "x1             2.9597      0.376      7.878      0.000       2.214       3.705\n",
       "==============================================================================\n",
       "Omnibus:                        1.553   Durbin-Watson:                   2.063\n",
       "Prob(Omnibus):                  0.460   Jarque-Bera (JB):                1.291\n",
       "Skew:                           0.089   Prob(JB):                        0.524\n",
       "Kurtosis:                       2.473   Cond. No.                         4.35\n",
       "==============================================================================\n",
       "\n",
       "Notes:\n",
       "[1] Standard Errors assume that the covariance matrix of the errors is correctly specified.\n",
       "\"\"\""
      ]
     },
     "execution_count": 20,
     "metadata": {},
     "output_type": "execute_result"
    }
   ],
   "source": [
    "x1 = sm.add_constant(x1)\n",
    "model = sm.OLS(y,x1).fit()\n",
    "model.summary()"
   ]
  },
  {
   "cell_type": "markdown",
   "id": "0cbc6dc6",
   "metadata": {},
   "source": [
    "#### To estimate SE with Bootstrap\n",
    "1. Create a sample\n",
    "2. Estimate parameters\n",
    "3. Calculate SE of the sequence of estimated parameters"
   ]
  },
  {
   "cell_type": "code",
   "execution_count": 71,
   "id": "30691c10",
   "metadata": {},
   "outputs": [],
   "source": [
    "np.random.seed(206)\n",
    "n_bootstrap = 1000\n",
    "betas_boot = np.zeros((1,n_bootstrap))\n",
    "\n",
    "for i in range(n_bootstrap):\n",
    "    sample_indices = np.random.randint(0, x1.shape[0], x1.shape[0])\n",
    "    x1_boot = x1[sample_indices]\n",
    "    y_boot = y[sample_indices]\n",
    "    model_boot = sm.OLS(y_boot,x1_boot).fit()\n",
    "    betas_boot[0,i] = model_boot.params[1]\n",
    "    \n",
    "se_boot = betas_boot.std()"
   ]
  },
  {
   "cell_type": "markdown",
   "id": "8c7992cc",
   "metadata": {},
   "source": [
    "## Now wrap in a function"
   ]
  },
  {
   "cell_type": "code",
   "execution_count": 75,
   "id": "ce556e4a",
   "metadata": {},
   "outputs": [],
   "source": [
    "def bootstrap_linear_regression(X, y, n_bootstraps=1000):\n",
    "    \"\"\"\n",
    "    Estimate the standard errors of the parameters in a linear regression model using the bootstrap method.\n",
    "    \n",
    "    Parameters:\n",
    "    - X: a 2D array of independent variables (shape: n_samples x n_features)\n",
    "    - y: a 1D array of dependent variables (shape: n_samples)\n",
    "    - n_bootstraps: the number of bootstrap samples to draw (default: 1000)\n",
    "    \n",
    "    Returns:\n",
    "    - beta_se: a 1D array of standard errors for the regression coefficients (shape: n_features)\n",
    "    - intercept_se: a scalar standard error for the intercept\n",
    "    \"\"\"\n",
    "    # import required modules\n",
    "    import numpy as np\n",
    "    from sklearn.linear_model import LinearRegression\n",
    "    \n",
    "    # initialize arrays to store bootstrapped coefficients and intercepts\n",
    "    beta_bootstrapped = np.zeros((n_bootstraps, X.shape[1]))\n",
    "    intercept_bootstrapped = np.zeros(n_bootstraps)\n",
    "    \n",
    "    # draw bootstrap samples and fit linear regression model\n",
    "    for i in range(n_bootstraps):\n",
    "        sample_indices = np.random.randint(0, X.shape[0], X.shape[0])\n",
    "        X_sample = X[sample_indices, :]\n",
    "        y_sample = y[sample_indices]\n",
    "        model = LinearRegression().fit(X_sample, y_sample)\n",
    "        beta_bootstrapped[i, :] = model.coef_\n",
    "        intercept_bootstrapped[i] = model.intercept_\n",
    "    \n",
    "    # calculate standard errors for coefficients and intercept\n",
    "    beta_se = np.std(beta_bootstrapped, axis=0)\n",
    "    intercept_se = np.std(intercept_bootstrapped)\n",
    "\n",
    "    return beta_se, intercept_se\n"
   ]
  },
  {
   "cell_type": "code",
   "execution_count": 76,
   "id": "e136aab4",
   "metadata": {},
   "outputs": [
    {
     "data": {
      "text/plain": [
       "(array([0.38960982]), 0.2182822763805789)"
      ]
     },
     "execution_count": 76,
     "metadata": {},
     "output_type": "execute_result"
    }
   ],
   "source": [
    "bootstrap_linear_regression(x1[:,1].reshape(-1,1), y, n_bootstraps=2000)"
   ]
  },
  {
   "cell_type": "code",
   "execution_count": null,
   "id": "c4086e22",
   "metadata": {},
   "outputs": [],
   "source": []
  }
 ],
 "metadata": {
  "kernelspec": {
   "display_name": "Python 3 (ipykernel)",
   "language": "python",
   "name": "python3"
  },
  "language_info": {
   "codemirror_mode": {
    "name": "ipython",
    "version": 3
   },
   "file_extension": ".py",
   "mimetype": "text/x-python",
   "name": "python",
   "nbconvert_exporter": "python",
   "pygments_lexer": "ipython3",
   "version": "3.9.7"
  }
 },
 "nbformat": 4,
 "nbformat_minor": 5
}
